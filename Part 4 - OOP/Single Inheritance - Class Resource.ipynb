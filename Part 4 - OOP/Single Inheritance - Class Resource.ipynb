{
 "cells": [
  {
   "cell_type": "code",
   "execution_count": 154,
   "metadata": {},
   "outputs": [],
   "source": [
    "from numbers import Real"
   ]
  },
  {
   "cell_type": "markdown",
   "metadata": {},
   "source": [
    "### Create Parent class for inventory: Resource"
   ]
  },
  {
   "cell_type": "code",
   "execution_count": 155,
   "metadata": {},
   "outputs": [],
   "source": [
    "class Resource:\n",
    "    @staticmethod\n",
    "    def _integer_check(value):\n",
    "        if not isinstance(value, Real):\n",
    "            raise TypeError('Value must be integer')\n",
    "        elif value<0:\n",
    "            raise ValueError(\"Value can't be negative\")\n",
    "        else:\n",
    "            return value\n",
    "        \n",
    "    def __init__(self, name, manufacturer, total: int, allocated=0):\n",
    "        self.name = name\n",
    "        self.manufacturer = manufacturer\n",
    "\n",
    "        self._total = Resource._integer_check(total)\n",
    "        \n",
    "        if not isinstance(allocated, Real):\n",
    "            raise TypeError('Allocated must be integer')\n",
    "        elif allocated > total:\n",
    "            raise ValueError(\"Allocated can't be more than inventory\")\n",
    "        else:\n",
    "            self._allocated = allocated\n",
    "        \n",
    "    def __str__(self) -> str:\n",
    "        return f'Resource model: {self.name}, Manufacturer: {self.manufacturer}, \\n In stock: {self.total}'\n",
    "    \n",
    "    def __repr__(self) -> str:\n",
    "        return f'Resource model: {self.name}, Manufacturer: {self.manufacturer}, \\n In stock: {self.total}'\n",
    "    \n",
    "    @property\n",
    "    def total(self):\n",
    "        return self._total\n",
    "    \n",
    "    @property\n",
    "    def allocated(self):\n",
    "        return self._allocated\n",
    "    \n",
    "    @property\n",
    "    def category(self):\n",
    "        return self.total-self.allocated\n",
    "\n",
    "    def claim(self, n):\n",
    "        '''method to take n resources from the pool (as long as inventory is available)'''\n",
    "        _n = Resource._integer_check(n)\n",
    "        if self.allocated+_n < self.total:\n",
    "            self._allocated += _n\n",
    "            return f\"{_n} units of {self.name} has been successfully claimed\"\n",
    "        else:\n",
    "            return f\"Not enough inventory\"\n",
    "\n",
    "    def freeup(self, n):\n",
    "        '''method to return n resources to the pool'''\n",
    "        _n = Resource._integer_check(n)\n",
    "        if self.allocated-_n >= 0:\n",
    "            self._allocated -= _n\n",
    "            return f\"{_n} units of {self.name} has been successfully returned\"\n",
    "        else:\n",
    "            return ValueError(\"Can't return more than allocated\")\n",
    "\n",
    "    def died(self, n):\n",
    "        '''method to return and permanently remove inventory from the pool'''\n",
    "        _n = Resource._integer_check(n)\n",
    "        if self.allocated-_n >= 0 and self.total-_n>0:\n",
    "            self._allocated -= _n\n",
    "            self._total -= _n\n",
    "            return f\"{_n} units of {self.name} has been successfully removed from the db\"\n",
    "        else:\n",
    "            return ValueError(\"Can't remove  more than allocated or in total inventory\")\n",
    "        \n",
    "    def purchased(self, n):\n",
    "        '''method to add inventory to the pool'''\n",
    "        if Resource._integer_check(n):\n",
    "            self._total+=n\n",
    "        else:\n",
    "            raise ValueError(\"You can't purchase a negative amount\")"
   ]
  },
  {
   "cell_type": "code",
   "execution_count": 156,
   "metadata": {},
   "outputs": [],
   "source": [
    "r = Resource(\"Cat food\", \"kiticat\", 10, 5)"
   ]
  },
  {
   "cell_type": "code",
   "execution_count": 157,
   "metadata": {},
   "outputs": [
    {
     "name": "stdout",
     "output_type": "stream",
     "text": [
      "Test claim method: total = 10, allocated = 5, 3 units of Cat food has been successfully claimed, left = 2\n",
      "Test freeup method: 4 units of Cat food has been successfully returned, total = 10, allocated = 4, left = 6\n",
      "Test died method: 4 units of Cat food has been successfully removed from the db, total = 6, allocated = 0\n",
      "Test purchase method: None, total = 8, allocated = 0\n"
     ]
    }
   ],
   "source": [
    "print(f\"Test claim method: total = {r.total}, allocated = {r.allocated}, {r.claim(3)}, left = {r.total-r.allocated}\")\n",
    "print(f\"Test freeup method: {r.freeup(4)}, total = {r.total}, allocated = {r.allocated}, left = {r.total-r.allocated}\")\n",
    "print(f\"Test died method: {r.died(4)}, total = {r.total}, allocated = {r.allocated}\")\n",
    "print(f\"Test purchase method: {r.purchased(2)}, total = {r.total}, allocated = {r.allocated}\")"
   ]
  },
  {
   "cell_type": "markdown",
   "metadata": {},
   "source": [
    "### Create child class: CPU"
   ]
  },
  {
   "cell_type": "code",
   "execution_count": 158,
   "metadata": {},
   "outputs": [],
   "source": [
    "class CPU(Resource):\n",
    "    def __init__(self, name, manufacturer, cores: int, socket: str, power_watts:int, total: int, allocated=0):\n",
    "        super().__init__(name, manufacturer, total, allocated)\n",
    "        self.cores = Resource._integer_check(cores)\n",
    "        self.socket = socket\n",
    "        self.power_watts = Resource._integer_check(power_watts)"
   ]
  },
  {
   "cell_type": "code",
   "execution_count": 159,
   "metadata": {},
   "outputs": [],
   "source": [
    "class Storage(Resource):\n",
    "    def __init__(self, name, manufacturer, capacity_GB: int, total: int, allocated=0):\n",
    "        super().__init__(name, manufacturer, total, allocated)\n",
    "        self.capacity_GB = Resource._integer_check(capacity_GB)"
   ]
  },
  {
   "cell_type": "code",
   "execution_count": 160,
   "metadata": {},
   "outputs": [],
   "source": [
    "class HDD(Storage):\n",
    "    def __init__(self, name, manufacturer, capacity_GB: int, size: str, rpm: int, total: int, allocated=0):\n",
    "        super().__init__(name, manufacturer, capacity_GB, total, allocated)\n",
    "        self.size=size\n",
    "        \n",
    "        if rpm not in range(1000,100000):\n",
    "            raise ValueError('RPM size should be in range (100, 10_000)')\n",
    "        \n",
    "        self.rpm = rpm"
   ]
  },
  {
   "cell_type": "code",
   "execution_count": 161,
   "metadata": {},
   "outputs": [],
   "source": [
    "class SSD(Storage):\n",
    "    def __init__(self, name, manufacturer, capacity_GB: int, interface: str, total: int, allocated=0):\n",
    "        super().__init__(name, manufacturer, capacity_GB, total, allocated)\n",
    "        self.interface = interface"
   ]
  }
 ],
 "metadata": {
  "kernelspec": {
   "display_name": "Python 3",
   "language": "python",
   "name": "python3"
  },
  "language_info": {
   "codemirror_mode": {
    "name": "ipython",
    "version": 3
   },
   "file_extension": ".py",
   "mimetype": "text/x-python",
   "name": "python",
   "nbconvert_exporter": "python",
   "pygments_lexer": "ipython3",
   "version": "3.10.4"
  },
  "orig_nbformat": 4
 },
 "nbformat": 4,
 "nbformat_minor": 2
}
