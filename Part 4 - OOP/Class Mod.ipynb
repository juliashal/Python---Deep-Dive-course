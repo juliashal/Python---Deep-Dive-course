{
 "cells": [
  {
   "cell_type": "code",
   "execution_count": 86,
   "metadata": {},
   "outputs": [],
   "source": [
    "from functools import total_ordering"
   ]
  },
  {
   "cell_type": "code",
   "execution_count": 87,
   "metadata": {},
   "outputs": [],
   "source": [
    "@total_ordering\n",
    "class Mod:\n",
    "    def __init__(self, value, modulus) -> None:\n",
    "        if isinstance(value, int):\n",
    "            self._value = value\n",
    "        else:\n",
    "            raise TypeError('Value must be integer')\n",
    "        \n",
    "        if isinstance(modulus, int) and modulus>0:\n",
    "            self._modulus = modulus\n",
    "        else:\n",
    "            raise TypeError('Value must be integer and positive')\n",
    "        \n",
    "    @property\n",
    "    def value(self):\n",
    "        return self._value % self._modulus\n",
    "    \n",
    "    @value.setter\n",
    "    def value(self, value):\n",
    "        self._value = value\n",
    "\n",
    "    @property\n",
    "    def modulus(self):\n",
    "        return self._modulus\n",
    "    \n",
    "    def __int__(self) -> int:\n",
    "        return self.value\n",
    "    \n",
    "    def __repr__(self) -> str:\n",
    "        return f\"Mod(value = {self.value}, modulus = {self.modulus})\"    \n",
    "    \n",
    "    def __eq__(self, other: object) -> bool:\n",
    "        if isinstance(other,Mod):\n",
    "            if self.modulus != other.modulus:\n",
    "                return NotImplemented\n",
    "            else:\n",
    "                return self.value == other.value\n",
    "        elif isinstance(other,int):\n",
    "            return self.value == other % self.modulus\n",
    "        else:\n",
    "            return NotImplemented\n",
    "    \n",
    "    def __lt__(self, other: object) -> bool:\n",
    "        if isinstance(other,Mod):\n",
    "            if self.modulus != other.modulus:\n",
    "                return NotImplemented\n",
    "            else:\n",
    "                return self.value < other.value\n",
    "        elif isinstance(other,int):\n",
    "            return self.value < other % self.modulus\n",
    "        else:\n",
    "            return NotImplemented\n",
    "        \n",
    "    def __hash__(self) -> int:\n",
    "        return hash((self.value,self.modulus))\n",
    "    \n",
    "    def __add__(self, other):\n",
    "        if isinstance(other,Mod) and self.modulus == other.modulus:\n",
    "            return Mod(self.value + other.value,self.modulus)\n",
    "        if isinstance(other,int):\n",
    "            return Mod(self.value + other,self.modulus)\n",
    "        return NotImplemented\n",
    "    \n",
    "    def __iadd__(self, other):\n",
    "        if isinstance(other,Mod) and self.modulus == other.modulus:\n",
    "            self.value = (self.value + other.value) % self.modulus\n",
    "            return self\n",
    "        if isinstance(other,int):\n",
    "            self.value = (self.value + other) % self.modulus\n",
    "            return self\n",
    "        return NotImplemented\n",
    "    \n",
    "\n"
   ]
  },
  {
   "cell_type": "code",
   "execution_count": 88,
   "metadata": {},
   "outputs": [],
   "source": [
    "m1 = Mod(8,3)\n",
    "m2 = Mod(15,3)"
   ]
  },
  {
   "cell_type": "code",
   "execution_count": 89,
   "metadata": {},
   "outputs": [
    {
     "data": {
      "text/plain": [
       "(2, 3, 0, 3)"
      ]
     },
     "execution_count": 89,
     "metadata": {},
     "output_type": "execute_result"
    }
   ],
   "source": [
    "m1.value, m1.modulus, m2.value, m2.modulus"
   ]
  },
  {
   "cell_type": "code",
   "execution_count": 90,
   "metadata": {},
   "outputs": [
    {
     "data": {
      "text/plain": [
       "(False, True, False, True, False)"
      ]
     },
     "execution_count": 90,
     "metadata": {},
     "output_type": "execute_result"
    }
   ],
   "source": [
    "m1==m2, m1==11, m2==19, m1>m2, m1<m2\n"
   ]
  },
  {
   "cell_type": "code",
   "execution_count": 91,
   "metadata": {},
   "outputs": [
    {
     "data": {
      "text/plain": [
       "(0, Mod(value = 2, modulus = 3), Mod(value = 1, modulus = 3))"
      ]
     },
     "execution_count": 91,
     "metadata": {},
     "output_type": "execute_result"
    }
   ],
   "source": [
    "int(m2), m1+m2, m1+11"
   ]
  },
  {
   "cell_type": "code",
   "execution_count": 92,
   "metadata": {},
   "outputs": [
    {
     "name": "stdout",
     "output_type": "stream",
     "text": [
      "Mod(value = 2, modulus = 3)\n",
      "Mod(value = 0, modulus = 3)\n"
     ]
    }
   ],
   "source": [
    "print(m1)\n",
    "m1+=19\n",
    "print(m1)"
   ]
  }
 ],
 "metadata": {
  "kernelspec": {
   "display_name": ".venv",
   "language": "python",
   "name": "python3"
  },
  "language_info": {
   "codemirror_mode": {
    "name": "ipython",
    "version": 3
   },
   "file_extension": ".py",
   "mimetype": "text/x-python",
   "name": "python",
   "nbconvert_exporter": "python",
   "pygments_lexer": "ipython3",
   "version": "3.10.4"
  },
  "orig_nbformat": 4
 },
 "nbformat": 4,
 "nbformat_minor": 2
}
