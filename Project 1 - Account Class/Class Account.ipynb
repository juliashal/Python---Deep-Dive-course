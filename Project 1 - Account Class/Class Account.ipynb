{
 "cells": [
  {
   "cell_type": "code",
   "execution_count": 45,
   "metadata": {},
   "outputs": [],
   "source": [
    "import numbers\n",
    "from datetime import timedelta\n",
    "from datetime import datetime\n",
    "\n",
    "\n",
    "class TimeZone:\n",
    "    def __init__(self, name, offset_hours, offset_minutes):\n",
    "        if name is None or len(str(name).strip()) == 0:\n",
    "            raise ValueError(\"Timezone name cannot be empty.\")\n",
    "\n",
    "        self._name = str(name).strip()\n",
    "\n",
    "        if not isinstance(offset_hours, numbers.Integral):\n",
    "            raise ValueError(\"Hour offset must be integer.\")\n",
    "\n",
    "        if not isinstance(offset_minutes, numbers.Integral):\n",
    "            raise ValueError(\"Minutes offset must be integer.\")\n",
    "\n",
    "        if abs(offset_hours) > 59:\n",
    "            raise ValueError(\"Minutes offset must be between -59 and 59 (inclusive)\")\n",
    "\n",
    "        offset = timedelta(hours=offset_hours, minutes=offset_minutes)\n",
    "        if offset < timedelta(hours=-12, minutes=0) or offset > timedelta(\n",
    "            hours=14, minutes=0\n",
    "        ):\n",
    "            raise ValueError(\"Offset must be between -12:00 and +14:00\")\n",
    "\n",
    "        self._offset_hours = offset_hours\n",
    "        self._offset_minutes = offset_minutes\n",
    "        self._offset = offset\n",
    "\n",
    "    @property\n",
    "    def offset(self):\n",
    "        return self._offset\n",
    "\n",
    "    @property\n",
    "    def name(self):\n",
    "        return self._name\n",
    "\n",
    "    def __repr__(self):\n",
    "        return (\n",
    "            f\"TimeZone(name={self.name}, \"\n",
    "            f\"offset_hours={self._offset_hours},\"\n",
    "            f\"offset_minutes={self._offset_minutes})\"\n",
    "        )"
   ]
  },
  {
   "cell_type": "code",
   "execution_count": 46,
   "metadata": {},
   "outputs": [],
   "source": [
    "tz1 = TimeZone(\"ABC\", -2, -15)"
   ]
  },
  {
   "cell_type": "code",
   "execution_count": 47,
   "metadata": {},
   "outputs": [],
   "source": [
    "class Account:\n",
    "\n",
    "    IR = 0.05  # class level property\n",
    "    transaction_id = 100\n",
    "\n",
    "    def __init__(self, account_num: int, first_name: str, last_name: str, time_zone=TimeZone('UTC',0,0), start_balance=0) -> None:\n",
    "        \n",
    "        if account_num is None or not isinstance(account_num, numbers.Integral):\n",
    "            raise ValueError('Account number cannot be empty and must be Integer.')   \n",
    "        self._account_num = account_num\n",
    "\n",
    "        self.first_name = first_name\n",
    "        self.last_name = last_name\n",
    "\n",
    "        if start_balance<0:\n",
    "            raise ValueError('Starting balance can\\'t be negative.')   \n",
    "        self._balance = float(start_balance)\n",
    "\n",
    "        self.time_zone = time_zone\n",
    "\n",
    "    @property\n",
    "    def account_num(self):\n",
    "        return self._account_num\n",
    "    \n",
    "    '''Names properties: First, Last and Full Names'''\n",
    "\n",
    "    @staticmethod\n",
    "    def validate_name(value, field_title):\n",
    "        if value is None or len(value.strip())==0:\n",
    "           raise ValueError(f'{field_title} can\\'t be empty')\n",
    "        return str(value).strip().capitalize()\n",
    "    \n",
    "    @property\n",
    "    def first_name(self):\n",
    "        return self._first_name\n",
    "\n",
    "    @first_name.setter\n",
    "    def first_name(self, value):\n",
    "        self._first_name = Account.validate_name(value, 'First name')\n",
    "    \n",
    "    @property\n",
    "    def last_name(self):\n",
    "        return self._last_name\n",
    "\n",
    "    @last_name.setter\n",
    "    def last_name(self, value):\n",
    "        self._last_name = Account.validate_name(value, 'Last name')\n",
    "\n",
    "\n",
    "    @property\n",
    "    def full_name(self):\n",
    "        return f'{self.first_name} {self.last_name}'\n",
    "\n",
    "    '''Balance: we can't access it directly'''\n",
    "    @property\n",
    "    def balance(self):\n",
    "        return self._balance\n",
    "    \n",
    "    '''TimeZone property'''\n",
    "    @property\n",
    "    def time_zone(self):\n",
    "        return self._time_zone\n",
    "\n",
    "    @time_zone.setter\n",
    "    def time_zone(self, value):\n",
    "        if not isinstance(value,TimeZone):\n",
    "            raise ValueError('Time Zone must be a valid TimeZone object')\n",
    "        self._time_zone = value\n",
    "\n",
    "\n",
    "    @classmethod\n",
    "    def transaction_update(cls):\n",
    "        cls.transaction_id+=1\n",
    "\n",
    "    '''Balance methods'''\n",
    "    def transaction(self, amount):\n",
    "        '''Deposit or withdrawal amount and generate confirmation number'''\n",
    "        if amount>=0:\n",
    "            transaction_type = \"D\"\n",
    "        elif amount<0:\n",
    "            transaction_type = \"W\"\n",
    "\n",
    "        final_balance = self._balance + amount\n",
    "        if final_balance>=0:\n",
    "            self._balance = final_balance\n",
    "        else:\n",
    "            transaction_type = \"X\"\n",
    "            print('You can\\'t go negative in your balance')\n",
    "        \n",
    "        dt_str = datetime.utcnow().strftime('%Y%m%d%H%M%S')\n",
    "        Account.transaction_update()\n",
    "        return f'{transaction_type}-{self.account_num}-{dt_str}-{Account.transaction_id} equals to {amount}. Current balance is {self._balance}'\n",
    "        \n",
    "\n",
    "    def apply_IR(self):\n",
    "        '''Apply interest rate to current balance'''\n",
    "        self._balance = round(self._balance*(1+self.IR),2)\n",
    "        dt_str = datetime.utcnow().strftime('%Y%m%d%H%M%S')\n",
    "        Account.transaction_update()\n",
    "        return f'I-{self.account_num}-{dt_str}-{Account.transaction_id}. Current balance is {self._balance}'\n",
    "    \n",
    "\n",
    "    @staticmethod\n",
    "    def parse_confirmation_code(confirmation_code, preferred_time_zone=None):\n",
    "        #D-986542-20230813214554-102\n",
    "        parts = confirmation_code.split('-')\n",
    "        if len(parts) != 4:\n",
    "            raise ValueError('Invalid confirmation code')\n",
    "        \n",
    "        transaction_code, account_number, raw_dt_utc, transaction_id = parts\n",
    "\n",
    "        try:\n",
    "            dt_utc = datetime.strptime(raw_dt_utc, '%Y%m%d%H%M%S')\n",
    "        except ValueError as ex:\n",
    "            raise ValueError('Invalid transaction datetime') from ex # from ex allows stack all errors\n",
    "        \n",
    "        if preferred_time_zone is None:\n",
    "            preferred_time_zone=TimeZone('UTC',0,0)\n",
    "\n",
    "        if not isinstance(preferred_time_zone, TimeZone):\n",
    "            raise ValueError('Invalid TimeZone specified')\n",
    "\n",
    "        dt_preferred = dt_utc + preferred_time_zone.offset\n",
    "        dt_preferred_str=f\"{dt_preferred.strftime('%Y-%m-%d %H:%M:%S')} ({preferred_time_zone.name})\"\n",
    "\n",
    "        return (transaction_code, account_number, dt_preferred_str, transaction_id)"
   ]
  },
  {
   "cell_type": "code",
   "execution_count": 48,
   "metadata": {},
   "outputs": [],
   "source": [
    "a1 = Account(12345, \"j\", \"k\", TimeZone(\"UTC\", -1, -1))"
   ]
  },
  {
   "cell_type": "code",
   "execution_count": 49,
   "metadata": {},
   "outputs": [
    {
     "data": {
      "text/plain": [
       "'I-12345-20230813215706-101. Current balance is 0.0'"
      ]
     },
     "execution_count": 49,
     "metadata": {},
     "output_type": "execute_result"
    }
   ],
   "source": [
    "a1.apply_IR()"
   ]
  },
  {
   "cell_type": "code",
   "execution_count": 50,
   "metadata": {},
   "outputs": [],
   "source": [
    "a2 = Account(986542, \"d\", \"cacad\")"
   ]
  },
  {
   "cell_type": "code",
   "execution_count": 51,
   "metadata": {},
   "outputs": [
    {
     "data": {
      "text/plain": [
       "'D-986542-20230813215706-102 equals to 25. Current balance is 25.0'"
      ]
     },
     "execution_count": 51,
     "metadata": {},
     "output_type": "execute_result"
    }
   ],
   "source": [
    "a2.transaction(25)"
   ]
  },
  {
   "cell_type": "code",
   "execution_count": 52,
   "metadata": {},
   "outputs": [
    {
     "data": {
      "text/plain": [
       "'I-986542-20230813215706-103. Current balance is 26.25'"
      ]
     },
     "execution_count": 52,
     "metadata": {},
     "output_type": "execute_result"
    }
   ],
   "source": [
    "a2.apply_IR()"
   ]
  },
  {
   "cell_type": "code",
   "execution_count": 53,
   "metadata": {},
   "outputs": [
    {
     "name": "stdout",
     "output_type": "stream",
     "text": [
      "can't set attribute 'balance'\n"
     ]
    }
   ],
   "source": [
    "try:\n",
    "    a2.balance = 200\n",
    "except AttributeError as ex:\n",
    "    print(ex)"
   ]
  },
  {
   "cell_type": "code",
   "execution_count": 54,
   "metadata": {},
   "outputs": [
    {
     "data": {
      "text/plain": [
       "103"
      ]
     },
     "execution_count": 54,
     "metadata": {},
     "output_type": "execute_result"
    }
   ],
   "source": [
    "Account.transaction_id"
   ]
  },
  {
   "cell_type": "code",
   "execution_count": 55,
   "metadata": {},
   "outputs": [
    {
     "data": {
      "text/plain": [
       "0.05"
      ]
     },
     "execution_count": 55,
     "metadata": {},
     "output_type": "execute_result"
    }
   ],
   "source": [
    "a2.IR"
   ]
  },
  {
   "cell_type": "code",
   "execution_count": 56,
   "metadata": {},
   "outputs": [
    {
     "data": {
      "text/plain": [
       "('D', '986542', '2023-08-13 21:57:06 (UTC)', '102')"
      ]
     },
     "execution_count": 56,
     "metadata": {},
     "output_type": "execute_result"
    }
   ],
   "source": [
    "a2.parse_confirmation_code('D-986542-20230813215706-102')"
   ]
  },
  {
   "cell_type": "code",
   "execution_count": 60,
   "metadata": {},
   "outputs": [
    {
     "name": "stdout",
     "output_type": "stream",
     "text": [
      "Invalid transaction datetime\n"
     ]
    }
   ],
   "source": [
    "try:\n",
    "    a2.parse_confirmation_code('D-986542-202308132-106')\n",
    "except ValueError as ex:\n",
    "    print(ex)"
   ]
  }
 ],
 "metadata": {
  "kernelspec": {
   "display_name": "Python 3",
   "language": "python",
   "name": "python3"
  },
  "language_info": {
   "codemirror_mode": {
    "name": "ipython",
    "version": 3
   },
   "file_extension": ".py",
   "mimetype": "text/x-python",
   "name": "python",
   "nbconvert_exporter": "python",
   "pygments_lexer": "ipython3",
   "version": "3.10.4"
  },
  "orig_nbformat": 4
 },
 "nbformat": 4,
 "nbformat_minor": 2
}
